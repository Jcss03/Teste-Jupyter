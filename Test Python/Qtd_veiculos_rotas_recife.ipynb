{
 "cells": [
  {
   "cell_type": "code",
   "execution_count": 9,
   "metadata": {},
   "outputs": [
    {
     "data": {
      "text/plain": [
       "[['AVENIDA BOA VIAGEM - ENTRE OS NRS. 6114 E 5888',\n",
       "  '8/6/2015',\n",
       "  '00:00:00 - 00:14:59',\n",
       "  '0',\n",
       "  '1',\n",
       "  '0',\n",
       "  '0',\n",
       "  '0',\n",
       "  '0',\n",
       "  '0',\n",
       "  '0',\n",
       "  '5',\n",
       "  '32'],\n",
       " ['AVENIDA BOA VIAGEM - ENTRE OS NRS. 6114 E 5888',\n",
       "  '8/6/2015',\n",
       "  '00:15:00 - 00:29:59',\n",
       "  '0',\n",
       "  '0',\n",
       "  '0',\n",
       "  '0',\n",
       "  '0',\n",
       "  '1',\n",
       "  '1',\n",
       "  '0',\n",
       "  '9',\n",
       "  '29']]"
      ]
     },
     "execution_count": 9,
     "metadata": {},
     "output_type": "execute_result"
    }
   ],
   "source": [
    "arquivo = open(\"fluxo-de-veiculo.csv\",\"r\")\n",
    "data_string = arquivo.read()\n",
    "rows = data_string.split(\"\\n\")\n",
    "new_list = [] \n",
    "for row in rows:\n",
    "    new_list.append(row.split(\";\"))\n",
    "new_list[1:3]"
   ]
  },
  {
   "cell_type": "code",
   "execution_count": null,
   "metadata": {},
   "outputs": [],
   "source": []
  }
 ],
 "metadata": {
  "kernelspec": {
   "display_name": "Python 3",
   "language": "python",
   "name": "python3"
  },
  "language_info": {
   "codemirror_mode": {
    "name": "ipython",
    "version": 3
   },
   "file_extension": ".py",
   "mimetype": "text/x-python",
   "name": "python",
   "nbconvert_exporter": "python",
   "pygments_lexer": "ipython3",
   "version": "3.6.5"
  }
 },
 "nbformat": 4,
 "nbformat_minor": 2
}
