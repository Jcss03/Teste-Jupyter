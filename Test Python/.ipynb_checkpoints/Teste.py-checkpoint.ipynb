{
 "cells": [
  {
   "cell_type": "markdown",
   "metadata": {},
   "source": [
    "<p><h1>Testanto</h1><b>python code</b> em celulas do <b>jupyter</b></p>"
   ]
  },
  {
   "cell_type": "code",
   "execution_count": 2,
   "metadata": {},
   "outputs": [
    {
     "name": "stdout",
     "output_type": "stream",
     "text": [
      "Test\n"
     ]
    }
   ],
   "source": [
    "x = \"Test\";\n",
    "print (x);"
   ]
  },
  {
   "cell_type": "code",
   "execution_count": 13,
   "metadata": {},
   "outputs": [
    {
     "name": "stdout",
     "output_type": "stream",
     "text": [
      "2\n"
     ]
    }
   ],
   "source": [
    "x = 1 + 1;\n",
    "print (x);"
   ]
  },
  {
   "cell_type": "code",
   "execution_count": 10,
   "metadata": {},
   "outputs": [
    {
     "data": {
      "text/plain": [
       "False"
      ]
     },
     "execution_count": 10,
     "metadata": {},
     "output_type": "execute_result"
    }
   ],
   "source": [
    "b = 95.36;\n",
    "a = 95.00;\n",
    "b == a"
   ]
  },
  {
   "cell_type": "code",
   "execution_count": 14,
   "metadata": {},
   "outputs": [
    {
     "data": {
      "text/plain": [
       "1.6666666666666667"
      ]
     },
     "execution_count": 14,
     "metadata": {},
     "output_type": "execute_result"
    }
   ],
   "source": [
    "5 / 3"
   ]
  },
  {
   "cell_type": "markdown",
   "metadata": {},
   "source": [
    "Divisao usando // arredonda pra baixo"
   ]
  },
  {
   "cell_type": "code",
   "execution_count": 16,
   "metadata": {},
   "outputs": [
    {
     "data": {
      "text/plain": [
       "1"
      ]
     },
     "execution_count": 16,
     "metadata": {},
     "output_type": "execute_result"
    }
   ],
   "source": [
    "5 // 3"
   ]
  },
  {
   "cell_type": "markdown",
   "metadata": {},
   "source": [
    "Mod"
   ]
  },
  {
   "cell_type": "code",
   "execution_count": 17,
   "metadata": {},
   "outputs": [
    {
     "data": {
      "text/plain": [
       "1"
      ]
     },
     "execution_count": 17,
     "metadata": {},
     "output_type": "execute_result"
    }
   ],
   "source": [
    "5%2"
   ]
  },
  {
   "cell_type": "markdown",
   "metadata": {},
   "source": [
    "Exponenciação"
   ]
  },
  {
   "cell_type": "code",
   "execution_count": 18,
   "metadata": {},
   "outputs": [
    {
     "data": {
      "text/plain": [
       "8"
      ]
     },
     "execution_count": 18,
     "metadata": {},
     "output_type": "execute_result"
    }
   ],
   "source": [
    "2 ** 3"
   ]
  },
  {
   "cell_type": "markdown",
   "metadata": {},
   "source": [
    "Variaveis"
   ]
  },
  {
   "cell_type": "code",
   "execution_count": 20,
   "metadata": {},
   "outputs": [
    {
     "data": {
      "text/plain": [
       "1"
      ]
     },
     "execution_count": 20,
     "metadata": {},
     "output_type": "execute_result"
    }
   ],
   "source": [
    "a = 1;\n",
    "a"
   ]
  },
  {
   "cell_type": "code",
   "execution_count": 23,
   "metadata": {},
   "outputs": [
    {
     "data": {
      "text/plain": [
       "'T'"
      ]
     },
     "execution_count": 23,
     "metadata": {},
     "output_type": "execute_result"
    }
   ],
   "source": [
    "b = 'Testando';\n",
    "b[0]\n"
   ]
  },
  {
   "cell_type": "code",
   "execution_count": 26,
   "metadata": {},
   "outputs": [
    {
     "name": "stdout",
     "output_type": "stream",
     "text": [
      "0\n"
     ]
    }
   ],
   "source": [
    "a = 10;\n",
    "b = 5; \n",
    "print(a%b);"
   ]
  },
  {
   "cell_type": "code",
   "execution_count": 28,
   "metadata": {},
   "outputs": [
    {
     "data": {
      "text/plain": [
       "(1, 10)"
      ]
     },
     "execution_count": 28,
     "metadata": {},
     "output_type": "execute_result"
    }
   ],
   "source": [
    "a = 1;\n",
    "b =10;\n",
    "a , b"
   ]
  },
  {
   "cell_type": "markdown",
   "metadata": {},
   "source": [
    "Swapping"
   ]
  },
  {
   "cell_type": "code",
   "execution_count": 29,
   "metadata": {},
   "outputs": [
    {
     "data": {
      "text/plain": [
       "(10, 1)"
      ]
     },
     "execution_count": 29,
     "metadata": {},
     "output_type": "execute_result"
    }
   ],
   "source": [
    "a = 1; b = 10;\n",
    "c = a;\n",
    "a = b;\n",
    "b = c;\n",
    "a , b"
   ]
  },
  {
   "cell_type": "code",
   "execution_count": 1,
   "metadata": {},
   "outputs": [
    {
     "name": "stdout",
     "output_type": "stream",
     "text": [
      "<class 'str'>\n"
     ]
    }
   ],
   "source": [
    "atlanta_string = \"Atlanta\";\n",
    "print(type(atlanta_string));"
   ]
  },
  {
   "cell_type": "code",
   "execution_count": 7,
   "metadata": {},
   "outputs": [
    {
     "name": "stdout",
     "output_type": "stream",
     "text": [
      "['Albuquerque', 'Anaheim', 'Anchorage', 'Arlington', 'Atlanta']\n",
      "[749, 371, 828, 503, 1379]\n",
      "Anchorage\n",
      "828\n",
      "5\n"
     ]
    }
   ],
   "source": [
    "cities = [] ;\n",
    "crime_rates = [];\n",
    "\n",
    "# Inserindo na lista\n",
    "cities.append(\"Albuquerque\");\n",
    "cities.append(\"Anaheim\");\n",
    "cities.append(\"Anchorage\");\n",
    "cities.append(\"Arlington\");\n",
    "cities.append(\"Atlanta\");\n",
    "\n",
    "crime_rates = [749 , 371 ,828,503,1379];\n",
    "\n",
    "print (cities);\n",
    "print (crime_rates);\n",
    "\n",
    "# Acessando valor da lista\n",
    "anchorage_str = cities[2];\n",
    "anchorage_cr = crime_rates[2];\n",
    "print(anchorage_str);\n",
    "print(anchorage_cr);\n",
    "\n",
    "#tamanho da lista\n",
    "print( len(cities));\n",
    "\n",
    "# Intervalos de listas\n",
    "cities_slice = cities[1:4];\n",
    "cr_slice = crime_rates[3:len(crime_rates)];\n",
    "\n"
   ]
  },
  {
   "cell_type": "code",
   "execution_count": 8,
   "metadata": {},
   "outputs": [
    {
     "name": "stdout",
     "output_type": "stream",
     "text": [
      "['john', 'plastic', 'joe']\n",
      "['How much wood', 'can a woodchuck chuck', 'if a woodchuck', 'could chuck wood?']\n"
     ]
    }
   ],
   "source": [
    "# We can split a string into a list.\n",
    "sample = \"john,plastic,joe\"\n",
    "split_list = sample.split(\",\")\n",
    "print(split_list)\n",
    "\n",
    "# Here's another example.\n",
    "string_two = \"How much wood\\ncan a woodchuck chuck\\nif a woodchuck\\ncould chuck wood?\"\n",
    "split_string_two = string_two.split('\\n')\n",
    "print(split_string_two)"
   ]
  },
  {
   "cell_type": "code",
   "execution_count": 11,
   "metadata": {},
   "outputs": [],
   "source": [
    "# Exemplo, open() acessa arquivo , \"r\" -> leitura\n",
    "# f = open(\"crime_rates.csv\", \"r\");\n",
    "# data = f.read(); read() -> retorna valores do arquivo\n",
    "# rows = data.split(\"\\n\");  #split()-> transforma strings em lista de strings separadas por um delimitador ex: (\",\")\n",
    "# print(rows[0:5]);"
   ]
  },
  {
   "cell_type": "code",
   "execution_count": 21,
   "metadata": {},
   "outputs": [
    {
     "name": "stdout",
     "output_type": "stream",
     "text": [
      "1\n",
      "2\n",
      "3\n",
      "4\n",
      "5\n",
      "6\n",
      "7\n",
      "8\n",
      "9\n",
      "10\n"
     ]
    }
   ],
   "source": [
    "rows = ['1','2','3','4','5','6','7','8','9','10'];\n",
    "ten_rows = rows[0:len(rows)]; \n",
    "for teste in ten_rows:\n",
    "    print(teste);"
   ]
  },
  {
   "cell_type": "code",
   "execution_count": 22,
   "metadata": {},
   "outputs": [
    {
     "name": "stdout",
     "output_type": "stream",
     "text": [
      "5\n"
     ]
    }
   ],
   "source": [
    "int_five = int(\"5\") # converte string para int \n",
    "print(int_five);"
   ]
  },
  {
   "cell_type": "code",
   "execution_count": 23,
   "metadata": {},
   "outputs": [
    {
     "name": "stdout",
     "output_type": "stream",
     "text": [
      "<class 'bool'>\n"
     ]
    }
   ],
   "source": [
    "cat = True;\n",
    "dog = False;\n",
    "print(type(cat))"
   ]
  },
  {
   "cell_type": "code",
   "execution_count": 28,
   "metadata": {},
   "outputs": [
    {
     "name": "stdout",
     "output_type": "stream",
     "text": [
      "teste\n"
     ]
    }
   ],
   "source": [
    "teste = [\"teste\",\"test\"]\n",
    "print(teste[0])\n"
   ]
  },
  {
   "cell_type": "code",
   "execution_count": null,
   "metadata": {},
   "outputs": [],
   "source": [
    "# Manipulando dados de um csv\n",
    "# usando linhas-horizontal\n",
    "# abrir o arquivo / data_string armezena os dados como uma string / rows -> recebe uma lista com cada (elemento)linha separada por \\n\n",
    "# e usamos o for para criar uma nova lista que contem listas como elementos e cada elemento contem os valores de cada linha do csv\n",
    "\n",
    "#arquivo = open(\"la_weather.csv\",\"r\");\n",
    "#data_string = arquivo.read();\n",
    "#rows = data_string.split('\\n');\n",
    "#weather_data = [];\n",
    "#for row in rows:\n",
    "#    weather_data.append(row.split(','));\n",
    "    \n",
    "#print(weather_data);"
   ]
  },
  {
   "cell_type": "code",
   "execution_count": 33,
   "metadata": {},
   "outputs": [
    {
     "name": "stdout",
     "output_type": "stream",
     "text": [
      "Cat found\n",
      "Cat found\n",
      "True\n"
     ]
    }
   ],
   "source": [
    "# If/else\n",
    "planet_names = [\"Mercury\", \"Venus\", \"Earth\", \"Mars\", \"Jupiter\", \"Saturn\", \"Neptune\", \"Uranus\"]\n",
    "short_names = []\n",
    "long_names = []\n",
    "\n",
    "for elem in planet_names:\n",
    "    if len(elem) > 5:\n",
    "        long_names.append(elem)\n",
    "    else:\n",
    "        short_names.append(elem)\n",
    "\n",
    "animals = [\"cat\", \"dog\", \"rabbit\"]\n",
    "for animal in animals:\n",
    "    if animal == \"cat\":\n",
    "        print(\"Cat found\")\n",
    "#Usando in \n",
    "animals = [\"cat\", \"dog\", \"rabbit\"]\n",
    "if \"cat\" in animals:\n",
    "    print(\"Cat found\")\n",
    "# ou\n",
    "animals = [\"cat\", \"dog\", \"rabbit\"]\n",
    "cat_found = \"cat\" in animals\n",
    "print(cat_found)"
   ]
  },
  {
   "cell_type": "markdown",
   "metadata": {},
   "source": [
    "Dicionarios\n"
   ]
  },
  {
   "cell_type": "code",
   "execution_count": 39,
   "metadata": {},
   "outputs": [
    {
     "name": "stdout",
     "output_type": "stream",
     "text": [
      "{'Aquaman': 1, 'Superman': 2}\n",
      "2\n",
      "1\n"
     ]
    }
   ],
   "source": [
    "superhero_ranks = {}\n",
    "superhero_ranks[\"Aquaman\"] = 1\n",
    "superhero_ranks[\"Superman\"] = 2\n",
    "print(superhero_ranks)\n",
    "print(superhero_ranks[\"Superman\"])\n",
    "print(superhero_ranks[\"Aquaman\"])\n",
    "\n",
    "# Atribuindo valor do dicionario a variaveis\n",
    "president_ranks = {}\n",
    "president_ranks[\"FDR\"] = 1\n",
    "president_ranks[\"Lincoln\"] = 2\n",
    "president_ranks[\"Aquaman\"] = 3\n",
    "\n",
    "fdr_rank = president_ranks[\"FDR\"]\n",
    "lincoln_rank = president_ranks[\"Lincoln\"]\n",
    "aquaman_rank = president_ranks[\"Aquaman\"]\n",
    "\n",
    "#Outra do forma de definir dicionarios | chave: valor|\n",
    "\n",
    "animals = {\n",
    "    7: \"raven\",\n",
    "    8: \"goose\",\n",
    "    9: \"duck\"\n",
    "}\n",
    "\n",
    "times = {\n",
    "    'morning':  9,\n",
    "    'afternoon':    14,\n",
    "    'evening':  19,\n",
    "    'night':    23\n",
    "}\n",
    "\n",
    "# Usando in para verificar chaves \n",
    "planet_numbers = {\"mercury\": 1, \"venus\": 2, \"earth\": 3, \"mars\": 4}\n",
    "\n",
    "jupiter_found = \"jupiter\" in planet_numbers;\n",
    "\n",
    "earth_found = \"earth\" in planet_numbers;\n",
    "\n",
    "\n"
   ]
  },
  {
   "cell_type": "code",
   "execution_count": null,
   "metadata": {},
   "outputs": [],
   "source": []
  }
 ],
 "metadata": {
  "kernelspec": {
   "display_name": "Python 3",
   "language": "python",
   "name": "python3"
  },
  "language_info": {
   "codemirror_mode": {
    "name": "ipython",
    "version": 3
   },
   "file_extension": ".py",
   "mimetype": "text/x-python",
   "name": "python",
   "nbconvert_exporter": "python",
   "pygments_lexer": "ipython3",
   "version": "3.6.5"
  }
 },
 "nbformat": 4,
 "nbformat_minor": 2
}
